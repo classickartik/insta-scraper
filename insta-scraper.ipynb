{
 "cells": [
  {
   "cell_type": "markdown",
   "metadata": {},
   "source": [
    "#  Antonio - The Perfect Instagram Bot"
   ]
  },
  {
   "cell_type": "markdown",
   "metadata": {},
   "source": [
    "### Imports"
   ]
  },
  {
   "cell_type": "code",
   "execution_count": 29,
   "metadata": {},
   "outputs": [],
   "source": [
    "from selenium import webdriver\n",
    "from selenium.webdriver.common.keys import Keys\n",
    "from selenium.webdriver.support import expected_conditions as EC\n",
    "from selenium.webdriver.common.by import By\n",
    "from selenium.webdriver.support.wait import WebDriverWait\n",
    "import os\n",
    "import requests\n",
    "import urllib.request"
   ]
  },
  {
   "cell_type": "markdown",
   "metadata": {},
   "source": [
    "### Set up webdriver and url of target website"
   ]
  },
  {
   "cell_type": "code",
   "execution_count": 30,
   "metadata": {},
   "outputs": [],
   "source": [
    "driver=webdriver.Chrome('C:/Users/Kartik/Desktop/projects/python/insta-scraper/chromedriver.exe')\n",
    "driver.get('https://www.instagram.com/')"
   ]
  },
  {
   "cell_type": "markdown",
   "metadata": {},
   "source": [
    "### Login"
   ]
  },
  {
   "cell_type": "code",
   "execution_count": 31,
   "metadata": {},
   "outputs": [
    {
     "name": "stdout",
     "output_type": "stream",
     "text": [
      "Enter your usernameclassic.kartik\n",
      "enter your passwordl-drago\n"
     ]
    }
   ],
   "source": [
    "username=WebDriverWait(driver, 10).until(EC.element_to_be_clickable((By.CSS_SELECTOR,\"input[name='username']\")))\n",
    "password=WebDriverWait(driver, 10).until(EC.element_to_be_clickable((By.CSS_SELECTOR,\"input[name='password']\")))\n",
    "username.clear()\n",
    "password.clear()\n",
    "your_username=input('Enter your username : ')\n",
    "your_password=input('enter your password :  ')\n",
    "username.send_keys(your_username)\n",
    "password.send_keys(your_password)\n",
    "log_in=WebDriverWait(driver, 10).until(EC.element_to_be_clickable((By.CSS_SELECTOR,\"button[type='submit']\"))).click()"
   ]
  },
  {
   "cell_type": "markdown",
   "metadata": {},
   "source": [
    "### Removing Checkboxes"
   ]
  },
  {
   "cell_type": "code",
   "execution_count": 32,
   "metadata": {},
   "outputs": [],
   "source": [
    "not_now=WebDriverWait(driver, 10).until(EC.element_to_be_clickable((By.XPATH, \"//button[contains(text(), 'Not Now')]\"))).click()\n",
    "not_now2=WebDriverWait(driver, 10).until(EC.element_to_be_clickable((By.XPATH, \"//button[contains(text(), 'Not Now')]\"))).click()"
   ]
  },
  {
   "cell_type": "markdown",
   "metadata": {},
   "source": [
    "### Search Tags"
   ]
  },
  {
   "cell_type": "code",
   "execution_count": 35,
   "metadata": {},
   "outputs": [
    {
     "name": "stdout",
     "output_type": "stream",
     "text": [
      "Enter the hashtag you want to search for : cat\n"
     ]
    }
   ],
   "source": [
    "tag=input('Enter the hashtag you want to search for : ')\n",
    "driver.get('https://www.instagram.com/explore/tags/'+'/'+tag)"
   ]
  },
  {
   "cell_type": "code",
   "execution_count": 22,
   "metadata": {},
   "outputs": [],
   "source": [
    "search_box=WebDriverWait(driver, 10).until(EC.element_to_be_clickable((By.XPATH,\"//input[@placeholder='Search']\")))\n",
    "search_box.clear()\n",
    "keyword='#ice'\n",
    "search_box.send_keys(keyword)\n",
    "\n"
   ]
  },
  {
   "cell_type": "code",
   "execution_count": 21,
   "metadata": {},
   "outputs": [],
   "source": [
    "search_box.send_keys(Keys.ENTER)\n",
    "wait=WebDriverWait(driver, 10)\n",
    "search_box.send_keys(Keys.ENTER)\n",
    "# search_box.send_keys(Keys.ENTER)"
   ]
  },
  {
   "cell_type": "code",
   "execution_count": null,
   "metadata": {
    "scrolled": true
   },
   "outputs": [],
   "source": [
    "driver.execute_script(\"window.scrollTo(0,4000);\")\n",
    "images=driver.find_elements_by_tag_name('img')\n",
    "images=[image.get_attribute('src') for image in images]\n",
    "images"
   ]
  },
  {
   "cell_type": "code",
   "execution_count": null,
   "metadata": {},
   "outputs": [],
   "source": [
    "path=os.getcwd()\n",
    "path=os.path.join(path, keyword[1:]+'s')\n",
    "\n",
    "os.mkdir(path)\n",
    "os.chdir(path\n",
    "os.getcwd()"
   ]
  },
  {
   "cell_type": "code",
   "execution_count": null,
   "metadata": {},
   "outputs": [],
   "source": [
    "\n",
    "counter=0\n",
    "for image in images:\n",
    "    url=image\n",
    "    filename=keyword+str(counter)+'.jpg'\n",
    "    print(filename)\n",
    "    urllib.request.urlretrieve(url,filename)\n",
    "    counter+=1"
   ]
  },
  {
   "cell_type": "code",
   "execution_count": null,
   "metadata": {},
   "outputs": [],
   "source": []
  }
 ],
 "metadata": {
  "kernelspec": {
   "display_name": "Python 3",
   "language": "python",
   "name": "python3"
  },
  "language_info": {
   "codemirror_mode": {
    "name": "ipython",
    "version": 3
   },
   "file_extension": ".py",
   "mimetype": "text/x-python",
   "name": "python",
   "nbconvert_exporter": "python",
   "pygments_lexer": "ipython3",
   "version": "3.9.6"
  }
 },
 "nbformat": 4,
 "nbformat_minor": 4
}
